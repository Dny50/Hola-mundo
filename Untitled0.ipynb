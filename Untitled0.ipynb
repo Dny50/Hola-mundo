{
  "nbformat": 4,
  "nbformat_minor": 0,
  "metadata": {
    "colab": {
      "provenance": [],
      "authorship_tag": "ABX9TyMYx7AVraHaqSo5jHFhscxK",
      "include_colab_link": true
    },
    "kernelspec": {
      "name": "python3",
      "display_name": "Python 3"
    },
    "language_info": {
      "name": "python"
    }
  },
  "cells": [
    {
      "cell_type": "markdown",
      "metadata": {
        "id": "view-in-github",
        "colab_type": "text"
      },
      "source": [
        "<a href=\"https://colab.research.google.com/github/Dny50/Hola-mundo/blob/main/Untitled0.ipynb\" target=\"_parent\"><img src=\"https://colab.research.google.com/assets/colab-badge.svg\" alt=\"Open In Colab\"/></a>"
      ]
    },
    {
      "cell_type": "code",
      "execution_count": null,
      "metadata": {
        "id": "Y5J4cgqL2jpq"
      },
      "outputs": [],
      "source": []
    },
    {
      "cell_type": "markdown",
      "source": [],
      "metadata": {
        "id": "hfQkVMKX26tw"
      }
    },
    {
      "cell_type": "code",
      "source": [],
      "metadata": {
        "id": "afS61GY-3MFY"
      },
      "execution_count": null,
      "outputs": []
    },
    {
      "cell_type": "markdown",
      "source": [
        "Bloque texto: Acá escriban una breve explicación de lo que hace el código\n"
      ],
      "metadata": {
        "id": "DikeE_853OOm"
      }
    },
    {
      "cell_type": "markdown",
      "source": [
        "Funciones con retorno multiple.\n",
        "Son funciones diferentes, los cuales hacen operaciones matemáticas básicas de suma, multplicacion y residuo."
      ],
      "metadata": {
        "id": "Wx5yTXxa4xGJ"
      }
    },
    {
      "cell_type": "code",
      "source": [
        "1 # Bloque de código, aca copian el codigo de su programa y le ejecutan.\n",
        "#parametros de entrada\n",
        "#nombre de la funcion\n",
        "#inicia con la palabra reservada def\n",
        "def sumar(vector1, vector2):\n",
        "    #cuerpo de la funcion\n",
        "    resultado = vector1 + vector2\n",
        "    #Retorno un valor\n",
        "    return resultado\n",
        "#Hacer la llamada a la funcion\n",
        "respuesta = sumar(15,28)\n",
        "print(f\"La suma es: {respuesta}\")\n",
        "\n",
        "#multiplicacion\n",
        "\n",
        "def multiplicar(vector1,vector2):\n",
        "    resultado=vector1+vector2\n",
        "    return resultado\n",
        "respuesta=multiplicar(30,5)\n",
        "print(f\"La multiplicacion es:{respuesta}\")\n",
        "\n",
        "\n",
        "#residuo\n",
        "\n",
        "def mod(vector1,vector2):\n",
        "    if vector2 !=0:\n",
        "        resultado=vector1%vector2\n",
        "        return resultado\n",
        "    else:\n",
        "        return 0\n",
        "respuesta=mod(35,5)\n",
        "print(f\"El residuo es:{respuesta}\")"
      ],
      "metadata": {
        "colab": {
          "base_uri": "https://localhost:8080/"
        },
        "id": "UxgXDHYD3bO0",
        "outputId": "d49e6920-44f5-4401-f0f5-d2eb0ccae4de"
      },
      "execution_count": null,
      "outputs": [
        {
          "output_type": "stream",
          "name": "stdout",
          "text": [
            "La suma es: 43\n",
            "La multiplicacion es:35\n",
            "El residuo es:0\n"
          ]
        }
      ]
    },
    {
      "cell_type": "markdown",
      "source": [
        "Funciones con retorno multiple. Es un programa que retorna múltiplos valores, permitiendo calcular la división y el residuo de dos números dados."
      ],
      "metadata": {
        "id": "GwlxsrXy6Wr4"
      }
    },
    {
      "cell_type": "code",
      "source": [
        "#Retorno de multiples valores\n",
        "\n",
        "def dividir(valor1, valor2):\n",
        "    division = valor1 / valor2\n",
        "    residuo = valor1 % valor2\n",
        "    #Retorno 2 valores\n",
        "    return division, residuo\n",
        "\n",
        "a,b = dividir(75,8)\n",
        "\n",
        "print(f\"Valor de division {a}; residuo {b}:\")"
      ],
      "metadata": {
        "colab": {
          "base_uri": "https://localhost:8080/"
        },
        "id": "2Pdq8ehc59LO",
        "outputId": "6c07d794-664b-4284-b387-83abe33efcf3"
      },
      "execution_count": null,
      "outputs": [
        {
          "output_type": "stream",
          "name": "stdout",
          "text": [
            "Valor de division 9.375; residuo 3:\n"
          ]
        }
      ]
    }
  ]
}